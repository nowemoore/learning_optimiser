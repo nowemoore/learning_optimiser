{
 "cells": [
  {
   "cell_type": "markdown",
   "id": "cdc0bd71",
   "metadata": {},
   "source": [
    "# Imports"
   ]
  },
  {
   "cell_type": "code",
   "execution_count": 1,
   "id": "b0298ca6",
   "metadata": {},
   "outputs": [],
   "source": [
    "import numpy as np\n",
    "from user import *\n",
    "import pandas as pd\n",
    "import random"
   ]
  },
  {
   "cell_type": "markdown",
   "id": "2f20bcf5",
   "metadata": {},
   "source": [
    "# Sample Users"
   ]
  },
  {
   "cell_type": "markdown",
   "id": "506cf3f9",
   "metadata": {},
   "source": [
    "## Initialise Users"
   ]
  },
  {
   "cell_type": "code",
   "execution_count": 2,
   "id": "18f35339",
   "metadata": {},
   "outputs": [],
   "source": [
    "## user init\n",
    "nikola = Learner(1, 23, 43, \"fr\", \"en\", [\"pl\", \"ru\"])\n",
    "john = Learner(2, 30, 287, \"es\", \"en\", [\"de\"])\n",
    "maria = Learner(3, 28, 1908, \"de\", \"es\", [\"en\", \"fr\"])\n"
   ]
  },
  {
   "cell_type": "markdown",
   "id": "fd5c5901",
   "metadata": {},
   "source": [
    "## Sample Vocabulary "
   ]
  },
  {
   "cell_type": "code",
   "execution_count": 3,
   "id": "64c8a59a",
   "metadata": {},
   "outputs": [],
   "source": [
    "## helper function to read csv of clusters and return random representative from each cluster\n",
    "def get_sample(lang: str, seed: int = 42):\n",
    "    ## read csv of clusters\n",
    "    clusters = {}\n",
    "    cluster_df = pd.read_csv(f'clusters_{lang}.csv')\n",
    "    for cluster_id in cluster_df.columns:\n",
    "        clusters[int(cluster_id)] = cluster_df[cluster_id].dropna().tolist()\n",
    "        \n",
    "    ## random representative from each cluster\n",
    "    test_sample = []\n",
    "    random.seed(seed) \n",
    "    for cluster_id in clusters.keys():\n",
    "        test_sample.append(random.choice(clusters[cluster_id]))\n",
    "        \n",
    "    return test_sample"
   ]
  },
  {
   "cell_type": "code",
   "execution_count": 4,
   "id": "0e92bc53",
   "metadata": {},
   "outputs": [
    {
     "name": "stdout",
     "output_type": "stream",
     "text": [
      "['canal', 'classe', 'efficacement', 'résulter', 'à temps plein', 'énorme', 'précis', 'organisé', 'annonce', 'blesser', 'qui', 'garde', 'prévisible', 'donc', 'moitié', 'critère', 'précédent', 'partout', 'distribuer', 'rideau', 'détaillé', 'danger']\n",
      "['base', 'período', 'observación', 'emergencia', 'institución', 'beneficioso', 'brusco', 'color', 'creencia', 'evidencia', 'regulación', 'centenar', 'tarea', 'enviar', 'comedia', 'bicicleta', 'debut', 'antepasado', 'conferencia', 'irrelevante', 'accesible', 'preservar', 'él', 'exclusivamente', 'cortesía', 'peligroso', 'parte', 'interactuar']\n",
      "['Golf', 'vorhersehbar', 'Dimension', 'beeindrucken', 'Schwanz', 'Gelegenheit', 'Aufsicht', 'Offizier', 'gewalttätig', 'falsch', 'vergleichen', 'Revision', 'Großelternteil', 'erreichen', 'Initiative', 'Eigentum', 'verteilen', 'literarisch', 'Serie', 'anwendbar', 'Integrität', 'mehrheitlich']\n"
     ]
    }
   ],
   "source": [
    "## prining to make sure seeds work correctly\n",
    "print(get_sample(nikola.target_lang, nikola.seed))\n",
    "print(get_sample(john.target_lang, john.seed))\n",
    "print(get_sample(maria.target_lang, maria.seed))"
   ]
  },
  {
   "cell_type": "markdown",
   "id": "0937604a",
   "metadata": {},
   "source": [
    "## Assess Users"
   ]
  },
  {
   "cell_type": "code",
   "execution_count": 5,
   "id": "dae07d67",
   "metadata": {},
   "outputs": [],
   "source": [
    "nikola.collect_data(get_sample(nikola.target_lang, nikola.seed))\n"
   ]
  },
  {
   "cell_type": "code",
   "execution_count": 6,
   "id": "91de29bb",
   "metadata": {},
   "outputs": [
    {
     "name": "stdout",
     "output_type": "stream",
     "text": [
      "[('canal', 1), ('classe', 1), ('résulter', 1), ('énorme', 1), ('précis', 1), ('précédent', 1), ('distribuer', 1), ('efficacement', 0), ('à temps plein', 0), ('organisé', 0)]\n",
      "22\n",
      "<class 'list'>\n"
     ]
    }
   ],
   "source": [
    "## print example of collected data\n",
    "print(nikola.knowledge_binary[:10])\n",
    "print(len(nikola.knowledge_binary))\n",
    "print(type(nikola.knowledge_binary))"
   ]
  },
  {
   "cell_type": "markdown",
   "id": "01dd3f3e",
   "metadata": {},
   "source": [
    "# Linear Regression Model"
   ]
  },
  {
   "cell_type": "markdown",
   "id": "9fbc0bf2",
   "metadata": {},
   "source": [
    "## Prepare Data"
   ]
  },
  {
   "cell_type": "code",
   "execution_count": null,
   "id": "f524d078",
   "metadata": {},
   "outputs": [],
   "source": []
  },
  {
   "cell_type": "markdown",
   "id": "6672c39e",
   "metadata": {},
   "source": [
    "# Neural Network"
   ]
  },
  {
   "cell_type": "code",
   "execution_count": null,
   "id": "9f258001",
   "metadata": {},
   "outputs": [],
   "source": []
  },
  {
   "cell_type": "markdown",
   "id": "3c1d7cd4",
   "metadata": {},
   "source": [
    "# Training Stats"
   ]
  },
  {
   "cell_type": "code",
   "execution_count": null,
   "id": "a82b56e6",
   "metadata": {},
   "outputs": [],
   "source": [
    "## how much data would be actually helpful (curve)"
   ]
  }
 ],
 "metadata": {
  "kernelspec": {
   "display_name": "Python 3",
   "language": "python",
   "name": "python3"
  },
  "language_info": {
   "codemirror_mode": {
    "name": "ipython",
    "version": 3
   },
   "file_extension": ".py",
   "mimetype": "text/x-python",
   "name": "python",
   "nbconvert_exporter": "python",
   "pygments_lexer": "ipython3",
   "version": "3.13.7"
  }
 },
 "nbformat": 4,
 "nbformat_minor": 5
}
