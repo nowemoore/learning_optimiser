{
 "cells": [
  {
   "cell_type": "markdown",
   "id": "cdc0bd71",
   "metadata": {},
   "source": [
    "# Imports"
   ]
  },
  {
   "cell_type": "code",
   "execution_count": 1,
   "id": "b0298ca6",
   "metadata": {},
   "outputs": [],
   "source": [
    "import numpy as np\n",
    "from user import *\n",
    "import pandas as pd"
   ]
  },
  {
   "cell_type": "markdown",
   "id": "2f20bcf5",
   "metadata": {},
   "source": [
    "# Sample Users"
   ]
  },
  {
   "cell_type": "code",
   "execution_count": 2,
   "id": "18f35339",
   "metadata": {},
   "outputs": [],
   "source": [
    "## user init\n",
    "nikola = Learner(1, 23, \"fr\", \"en\", [\"pl\", \"ru\"])\n",
    "john = Learner(2, 30, \"es\", \"en\", [\"de\"])\n",
    "maria = Learner(3, 28, \"de\", \"es\", [\"en\", \"fr\"])\n"
   ]
  },
  {
   "cell_type": "code",
   "execution_count": 3,
   "id": "64c8a59a",
   "metadata": {},
   "outputs": [],
   "source": [
    "def get_sample(lang: str, seed: int = 42):\n",
    "    ## read csv of clusters\n",
    "    clusters = {}\n",
    "    cluster_df = pd.read_csv(f'clusters_{lang}.csv')\n",
    "    for cluster_id in cluster_df.columns:\n",
    "        clusters[int(cluster_id)] = cluster_df[cluster_id].dropna().tolist()\n",
    "        \n",
    "    ## random representative from each cluster\n",
    "    test_sample = []\n",
    "    random.seed(seed) \n",
    "    for cluster_id in clusters.keys():\n",
    "        test_sample.append(random.choice(clusters[cluster_id]))\n",
    "        \n",
    "    return test_sample"
   ]
  },
  {
   "cell_type": "code",
   "execution_count": 4,
   "id": "dae07d67",
   "metadata": {},
   "outputs": [],
   "source": [
    "nikola.collect_data(get_sample(nikola.target_lang, nikola.seed))\n"
   ]
  },
  {
   "cell_type": "code",
   "execution_count": 5,
   "id": "dfdf2074",
   "metadata": {},
   "outputs": [
    {
     "name": "stdout",
     "output_type": "stream",
     "text": [
      "[(('costume', 1), ('positif', 1)), (('costume', 1), ('humour', 1)), (('costume', 1), ('biologie', 1)), (('costume', 1), ('contexte', 1)), (('costume', 1), ('terrible', 1)), (('costume', 1), ('prêt', 1)), (('costume', 1), ('moins', 1)), (('costume', 1), ('détective', 1)), (('costume', 1), ('intégrité', 1)), (('costume', 1), ('port', 0)), (('costume', 1), ('retraite', 0)), (('costume', 1), ('continu', 0)), (('costume', 1), ('prime', 0)), (('costume', 1), ('rien', 0)), (('costume', 1), ('certainement', 0)), (('costume', 1), ('deux fois', 0)), (('costume', 1), ('ultime', 0)), (('costume', 1), ('à la mode', 0)), (('costume', 1), ('combinaison', 0)), (('costume', 1), ('courbé', 0)), (('costume', 1), ('lutte', 0)), (('positif', 1), ('humour', 1)), (('positif', 1), ('biologie', 1)), (('positif', 1), ('contexte', 1)), (('positif', 1), ('terrible', 1)), (('positif', 1), ('prêt', 1)), (('positif', 1), ('moins', 1)), (('positif', 1), ('détective', 1)), (('positif', 1), ('intégrité', 1)), (('positif', 1), ('port', 0)), (('positif', 1), ('retraite', 0)), (('positif', 1), ('continu', 0)), (('positif', 1), ('prime', 0)), (('positif', 1), ('rien', 0)), (('positif', 1), ('certainement', 0)), (('positif', 1), ('deux fois', 0)), (('positif', 1), ('ultime', 0)), (('positif', 1), ('à la mode', 0)), (('positif', 1), ('combinaison', 0)), (('positif', 1), ('courbé', 0)), (('positif', 1), ('lutte', 0)), (('humour', 1), ('biologie', 1)), (('humour', 1), ('contexte', 1)), (('humour', 1), ('terrible', 1)), (('humour', 1), ('prêt', 1)), (('humour', 1), ('moins', 1)), (('humour', 1), ('détective', 1)), (('humour', 1), ('intégrité', 1)), (('humour', 1), ('port', 0)), (('humour', 1), ('retraite', 0)), (('humour', 1), ('continu', 0)), (('humour', 1), ('prime', 0)), (('humour', 1), ('rien', 0)), (('humour', 1), ('certainement', 0)), (('humour', 1), ('deux fois', 0)), (('humour', 1), ('ultime', 0)), (('humour', 1), ('à la mode', 0)), (('humour', 1), ('combinaison', 0)), (('humour', 1), ('courbé', 0)), (('humour', 1), ('lutte', 0)), (('biologie', 1), ('contexte', 1)), (('biologie', 1), ('terrible', 1)), (('biologie', 1), ('prêt', 1)), (('biologie', 1), ('moins', 1)), (('biologie', 1), ('détective', 1)), (('biologie', 1), ('intégrité', 1)), (('biologie', 1), ('port', 0)), (('biologie', 1), ('retraite', 0)), (('biologie', 1), ('continu', 0)), (('biologie', 1), ('prime', 0)), (('biologie', 1), ('rien', 0)), (('biologie', 1), ('certainement', 0)), (('biologie', 1), ('deux fois', 0)), (('biologie', 1), ('ultime', 0)), (('biologie', 1), ('à la mode', 0)), (('biologie', 1), ('combinaison', 0)), (('biologie', 1), ('courbé', 0)), (('biologie', 1), ('lutte', 0)), (('contexte', 1), ('terrible', 1)), (('contexte', 1), ('prêt', 1)), (('contexte', 1), ('moins', 1)), (('contexte', 1), ('détective', 1)), (('contexte', 1), ('intégrité', 1)), (('contexte', 1), ('port', 0)), (('contexte', 1), ('retraite', 0)), (('contexte', 1), ('continu', 0)), (('contexte', 1), ('prime', 0)), (('contexte', 1), ('rien', 0)), (('contexte', 1), ('certainement', 0)), (('contexte', 1), ('deux fois', 0)), (('contexte', 1), ('ultime', 0)), (('contexte', 1), ('à la mode', 0)), (('contexte', 1), ('combinaison', 0)), (('contexte', 1), ('courbé', 0)), (('contexte', 1), ('lutte', 0)), (('terrible', 1), ('prêt', 1)), (('terrible', 1), ('moins', 1)), (('terrible', 1), ('détective', 1)), (('terrible', 1), ('intégrité', 1)), (('terrible', 1), ('port', 0)), (('terrible', 1), ('retraite', 0)), (('terrible', 1), ('continu', 0)), (('terrible', 1), ('prime', 0)), (('terrible', 1), ('rien', 0)), (('terrible', 1), ('certainement', 0)), (('terrible', 1), ('deux fois', 0)), (('terrible', 1), ('ultime', 0)), (('terrible', 1), ('à la mode', 0)), (('terrible', 1), ('combinaison', 0)), (('terrible', 1), ('courbé', 0)), (('terrible', 1), ('lutte', 0)), (('prêt', 1), ('moins', 1)), (('prêt', 1), ('détective', 1)), (('prêt', 1), ('intégrité', 1)), (('prêt', 1), ('port', 0)), (('prêt', 1), ('retraite', 0)), (('prêt', 1), ('continu', 0)), (('prêt', 1), ('prime', 0)), (('prêt', 1), ('rien', 0)), (('prêt', 1), ('certainement', 0)), (('prêt', 1), ('deux fois', 0)), (('prêt', 1), ('ultime', 0)), (('prêt', 1), ('à la mode', 0)), (('prêt', 1), ('combinaison', 0)), (('prêt', 1), ('courbé', 0)), (('prêt', 1), ('lutte', 0)), (('moins', 1), ('détective', 1)), (('moins', 1), ('intégrité', 1)), (('moins', 1), ('port', 0)), (('moins', 1), ('retraite', 0)), (('moins', 1), ('continu', 0)), (('moins', 1), ('prime', 0)), (('moins', 1), ('rien', 0)), (('moins', 1), ('certainement', 0)), (('moins', 1), ('deux fois', 0)), (('moins', 1), ('ultime', 0)), (('moins', 1), ('à la mode', 0)), (('moins', 1), ('combinaison', 0)), (('moins', 1), ('courbé', 0)), (('moins', 1), ('lutte', 0)), (('détective', 1), ('intégrité', 1)), (('détective', 1), ('port', 0)), (('détective', 1), ('retraite', 0)), (('détective', 1), ('continu', 0)), (('détective', 1), ('prime', 0)), (('détective', 1), ('rien', 0)), (('détective', 1), ('certainement', 0)), (('détective', 1), ('deux fois', 0)), (('détective', 1), ('ultime', 0)), (('détective', 1), ('à la mode', 0)), (('détective', 1), ('combinaison', 0)), (('détective', 1), ('courbé', 0)), (('détective', 1), ('lutte', 0)), (('intégrité', 1), ('port', 0)), (('intégrité', 1), ('retraite', 0)), (('intégrité', 1), ('continu', 0)), (('intégrité', 1), ('prime', 0)), (('intégrité', 1), ('rien', 0)), (('intégrité', 1), ('certainement', 0)), (('intégrité', 1), ('deux fois', 0)), (('intégrité', 1), ('ultime', 0)), (('intégrité', 1), ('à la mode', 0)), (('intégrité', 1), ('combinaison', 0)), (('intégrité', 1), ('courbé', 0)), (('intégrité', 1), ('lutte', 0)), (('port', 0), ('retraite', 0)), (('port', 0), ('continu', 0)), (('port', 0), ('prime', 0)), (('port', 0), ('rien', 0)), (('port', 0), ('certainement', 0)), (('port', 0), ('deux fois', 0)), (('port', 0), ('ultime', 0)), (('port', 0), ('à la mode', 0)), (('port', 0), ('combinaison', 0)), (('port', 0), ('courbé', 0)), (('port', 0), ('lutte', 0)), (('retraite', 0), ('continu', 0)), (('retraite', 0), ('prime', 0)), (('retraite', 0), ('rien', 0)), (('retraite', 0), ('certainement', 0)), (('retraite', 0), ('deux fois', 0)), (('retraite', 0), ('ultime', 0)), (('retraite', 0), ('à la mode', 0)), (('retraite', 0), ('combinaison', 0)), (('retraite', 0), ('courbé', 0)), (('retraite', 0), ('lutte', 0)), (('continu', 0), ('prime', 0)), (('continu', 0), ('rien', 0)), (('continu', 0), ('certainement', 0)), (('continu', 0), ('deux fois', 0)), (('continu', 0), ('ultime', 0)), (('continu', 0), ('à la mode', 0)), (('continu', 0), ('combinaison', 0)), (('continu', 0), ('courbé', 0)), (('continu', 0), ('lutte', 0)), (('prime', 0), ('rien', 0)), (('prime', 0), ('certainement', 0)), (('prime', 0), ('deux fois', 0)), (('prime', 0), ('ultime', 0)), (('prime', 0), ('à la mode', 0)), (('prime', 0), ('combinaison', 0)), (('prime', 0), ('courbé', 0)), (('prime', 0), ('lutte', 0)), (('rien', 0), ('certainement', 0)), (('rien', 0), ('deux fois', 0)), (('rien', 0), ('ultime', 0)), (('rien', 0), ('à la mode', 0)), (('rien', 0), ('combinaison', 0)), (('rien', 0), ('courbé', 0)), (('rien', 0), ('lutte', 0)), (('certainement', 0), ('deux fois', 0)), (('certainement', 0), ('ultime', 0)), (('certainement', 0), ('à la mode', 0)), (('certainement', 0), ('combinaison', 0)), (('certainement', 0), ('courbé', 0)), (('certainement', 0), ('lutte', 0)), (('deux fois', 0), ('ultime', 0)), (('deux fois', 0), ('à la mode', 0)), (('deux fois', 0), ('combinaison', 0)), (('deux fois', 0), ('courbé', 0)), (('deux fois', 0), ('lutte', 0)), (('ultime', 0), ('à la mode', 0)), (('ultime', 0), ('combinaison', 0)), (('ultime', 0), ('courbé', 0)), (('ultime', 0), ('lutte', 0)), (('à la mode', 0), ('combinaison', 0)), (('à la mode', 0), ('courbé', 0)), (('à la mode', 0), ('lutte', 0)), (('combinaison', 0), ('courbé', 0)), (('combinaison', 0), ('lutte', 0)), (('courbé', 0), ('lutte', 0))]\n"
     ]
    },
    {
     "data": {
      "text/plain": [
       "231"
      ]
     },
     "execution_count": 5,
     "metadata": {},
     "output_type": "execute_result"
    }
   ],
   "source": [
    "print(nikola.user_data)  # Example output of collected data\n",
    "len(nikola.user_data)  # Example output of number of words assessed"
   ]
  },
  {
   "cell_type": "markdown",
   "id": "01dd3f3e",
   "metadata": {},
   "source": [
    "# Classification "
   ]
  },
  {
   "cell_type": "markdown",
   "id": "6672c39e",
   "metadata": {},
   "source": [
    "# Neural Network"
   ]
  }
 ],
 "metadata": {
  "kernelspec": {
   "display_name": "Python 3",
   "language": "python",
   "name": "python3"
  },
  "language_info": {
   "codemirror_mode": {
    "name": "ipython",
    "version": 3
   },
   "file_extension": ".py",
   "mimetype": "text/x-python",
   "name": "python",
   "nbconvert_exporter": "python",
   "pygments_lexer": "ipython3",
   "version": "3.13.7"
  }
 },
 "nbformat": 4,
 "nbformat_minor": 5
}
