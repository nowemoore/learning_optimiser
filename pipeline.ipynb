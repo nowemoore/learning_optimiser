{
 "cells": [
  {
   "cell_type": "markdown",
   "id": "cdc0bd71",
   "metadata": {},
   "source": [
    "# Imports"
   ]
  },
  {
   "cell_type": "code",
   "execution_count": 1,
   "id": "b0298ca6",
   "metadata": {},
   "outputs": [],
   "source": [
    "import numpy as np\n",
    "from user import *\n",
    "import pandas as pd\n",
    "import random"
   ]
  },
  {
   "cell_type": "markdown",
   "id": "2f20bcf5",
   "metadata": {},
   "source": [
    "# Sample Users"
   ]
  },
  {
   "cell_type": "markdown",
   "id": "506cf3f9",
   "metadata": {},
   "source": [
    "## Initialise Users"
   ]
  },
  {
   "cell_type": "code",
   "execution_count": 2,
   "id": "18f35339",
   "metadata": {},
   "outputs": [],
   "source": [
    "## user init\n",
    "nikola = Learner(1, 23, 43, \"fr\", \"en\", [\"pl\", \"ru\"])\n",
    "john = Learner(2, 30, 287, \"es\", \"en\", [\"de\"])\n",
    "maria = Learner(3, 28, 1908, \"de\", \"es\", [\"en\", \"fr\"])\n"
   ]
  },
  {
   "cell_type": "markdown",
   "id": "fd5c5901",
   "metadata": {},
   "source": [
    "## Sample Vocabulary "
   ]
  },
  {
   "cell_type": "code",
   "execution_count": 3,
   "id": "64c8a59a",
   "metadata": {},
   "outputs": [],
   "source": [
    "## helper function to read csv of clusters and return random representative from each cluster\n",
    "def get_sample(lang: str, seed: int = 42):\n",
    "    ## read csv of clusters\n",
    "    clusters = {}\n",
    "    cluster_df = pd.read_csv(f'clusters_{lang}.csv')\n",
    "    for cluster_id in cluster_df.columns:\n",
    "        clusters[int(cluster_id)] = cluster_df[cluster_id].dropna().tolist()\n",
    "        \n",
    "    ## random representative from each cluster\n",
    "    test_sample = []\n",
    "    random.seed(seed) \n",
    "    for cluster_id in clusters.keys():\n",
    "        test_sample.append(random.choice(clusters[cluster_id]))\n",
    "        \n",
    "    return test_sample"
   ]
  },
  {
   "cell_type": "code",
   "execution_count": 4,
   "id": "0e92bc53",
   "metadata": {},
   "outputs": [
    {
     "name": "stdout",
     "output_type": "stream",
     "text": [
      "['canal', 'classe', 'efficacement', 'résulter', 'à temps plein', 'énorme', 'précis', 'organisé', 'annonce', 'blesser', 'qui', 'garde', 'prévisible', 'donc', 'moitié', 'critère', 'précédent', 'partout', 'distribuer', 'rideau', 'détaillé', 'danger']\n",
      "['base', 'período', 'observación', 'emergencia', 'institución', 'beneficioso', 'brusco', 'color', 'creencia', 'evidencia', 'regulación', 'centenar', 'tarea', 'enviar', 'comedia', 'bicicleta', 'debut', 'antepasado', 'conferencia', 'irrelevante', 'accesible', 'preservar', 'él', 'exclusivamente', 'cortesía', 'peligroso', 'parte', 'interactuar']\n",
      "['Golf', 'vorhersehbar', 'Dimension', 'beeindrucken', 'Schwanz', 'Gelegenheit', 'Aufsicht', 'Offizier', 'gewalttätig', 'falsch', 'vergleichen', 'Revision', 'Großelternteil', 'erreichen', 'Initiative', 'Eigentum', 'verteilen', 'literarisch', 'Serie', 'anwendbar', 'Integrität', 'mehrheitlich']\n"
     ]
    }
   ],
   "source": [
    "## prining to make sure seeds work correctly\n",
    "print(get_sample(nikola.target_lang, nikola.seed))\n",
    "print(get_sample(john.target_lang, john.seed))\n",
    "print(get_sample(maria.target_lang, maria.seed))"
   ]
  },
  {
   "cell_type": "markdown",
   "id": "0937604a",
   "metadata": {},
   "source": [
    "## Assess Users"
   ]
  },
  {
   "cell_type": "code",
   "execution_count": 5,
   "id": "dae07d67",
   "metadata": {},
   "outputs": [],
   "source": [
    "nikola.collect_data(get_sample(nikola.target_lang, nikola.seed))\n"
   ]
  },
  {
   "cell_type": "code",
   "execution_count": null,
   "id": "91de29bb",
   "metadata": {},
   "outputs": [
    {
     "name": "stdout",
     "output_type": "stream",
     "text": [
      "[(('canal', 1), ('classe', 1)), (('canal', 1), ('résulter', 1)), (('canal', 1), ('énorme', 1)), (('canal', 1), ('précis', 1)), (('canal', 1), ('organisé', 1)), (('canal', 1), ('précédent', 1)), (('canal', 1), ('distribuer', 1)), (('canal', 1), ('efficacement', 0)), (('canal', 1), ('à temps plein', 0)), (('canal', 1), ('annonce', 0))]\n",
      "231\n",
      "<class 'list'>\n",
      "[('canal', 1), ('classe', 1), ('résulter', 1), ('énorme', 1), ('précis', 1), ('organisé', 1), ('précédent', 1), ('distribuer', 1), ('efficacement', 0), ('à temps plein', 0)]\n",
      "22\n",
      "<class 'list'>\n"
     ]
    }
   ],
   "source": [
    "## print example of collected data\n",
    "print(nikola.knowledge_binary[:10])\n",
    "print(len(nikola.knowledge_binary))\n",
    "print(type(nikola.knowledge_binary))"
   ]
  },
  {
   "cell_type": "markdown",
   "id": "ef961cd1",
   "metadata": {},
   "source": [
    "# Prepare Training Data"
   ]
  },
  {
   "cell_type": "code",
   "execution_count": 17,
   "id": "3ff566a3",
   "metadata": {},
   "outputs": [
    {
     "name": "stdout",
     "output_type": "stream",
     "text": [
      "Input: ('canal', 1), Output: ('classe', 1)\n",
      "Input: ('canal', 1), Output: ('résulter', 1)\n",
      "Input: ('canal', 1), Output: ('énorme', 1)\n",
      "Input: ('canal', 1), Output: ('précis', 1)\n",
      "Input: ('canal', 1), Output: ('précédent', 1)\n",
      "Input: ('canal', 1), Output: ('distribuer', 1)\n",
      "Input: ('canal', 1), Output: ('détaillé', 1)\n",
      "Input: ('canal', 1), Output: ('danger', 1)\n",
      "Input: ('canal', 1), Output: ('efficacement', 0)\n",
      "Input: ('canal', 1), Output: ('à temps plein', 0)\n",
      "Input: ('canal', 1), Output: ('organisé', 0)\n",
      "Input: ('canal', 1), Output: ('annonce', 0)\n",
      "Input: ('canal', 1), Output: ('blesser', 0)\n",
      "Input: ('canal', 1), Output: ('qui', 0)\n",
      "Input: ('canal', 1), Output: ('garde', 0)\n",
      "Input: ('canal', 1), Output: ('prévisible', 0)\n",
      "Input: ('canal', 1), Output: ('donc', 0)\n",
      "Input: ('canal', 1), Output: ('moitié', 0)\n",
      "Input: ('canal', 1), Output: ('critère', 0)\n",
      "Input: ('canal', 1), Output: ('partout', 0)\n",
      "Input: ('canal', 1), Output: ('rideau', 0)\n",
      "Input: ('classe', 1), Output: ('résulter', 1)\n",
      "Input: ('classe', 1), Output: ('énorme', 1)\n",
      "Input: ('classe', 1), Output: ('précis', 1)\n",
      "Input: ('classe', 1), Output: ('précédent', 1)\n",
      "Input: ('classe', 1), Output: ('distribuer', 1)\n",
      "Input: ('classe', 1), Output: ('détaillé', 1)\n",
      "Input: ('classe', 1), Output: ('danger', 1)\n",
      "Input: ('classe', 1), Output: ('efficacement', 0)\n",
      "Input: ('classe', 1), Output: ('à temps plein', 0)\n",
      "Input: ('classe', 1), Output: ('organisé', 0)\n",
      "Input: ('classe', 1), Output: ('annonce', 0)\n",
      "Input: ('classe', 1), Output: ('blesser', 0)\n",
      "Input: ('classe', 1), Output: ('qui', 0)\n",
      "Input: ('classe', 1), Output: ('garde', 0)\n",
      "Input: ('classe', 1), Output: ('prévisible', 0)\n",
      "Input: ('classe', 1), Output: ('donc', 0)\n",
      "Input: ('classe', 1), Output: ('moitié', 0)\n",
      "Input: ('classe', 1), Output: ('critère', 0)\n",
      "Input: ('classe', 1), Output: ('partout', 0)\n",
      "Input: ('classe', 1), Output: ('rideau', 0)\n",
      "Input: ('résulter', 1), Output: ('énorme', 1)\n",
      "Input: ('résulter', 1), Output: ('précis', 1)\n",
      "Input: ('résulter', 1), Output: ('précédent', 1)\n",
      "Input: ('résulter', 1), Output: ('distribuer', 1)\n",
      "Input: ('résulter', 1), Output: ('détaillé', 1)\n",
      "Input: ('résulter', 1), Output: ('danger', 1)\n",
      "Input: ('résulter', 1), Output: ('efficacement', 0)\n",
      "Input: ('résulter', 1), Output: ('à temps plein', 0)\n",
      "Input: ('résulter', 1), Output: ('organisé', 0)\n",
      "Input: ('résulter', 1), Output: ('annonce', 0)\n",
      "Input: ('résulter', 1), Output: ('blesser', 0)\n",
      "Input: ('résulter', 1), Output: ('qui', 0)\n",
      "Input: ('résulter', 1), Output: ('garde', 0)\n",
      "Input: ('résulter', 1), Output: ('prévisible', 0)\n",
      "Input: ('résulter', 1), Output: ('donc', 0)\n",
      "Input: ('résulter', 1), Output: ('moitié', 0)\n",
      "Input: ('résulter', 1), Output: ('critère', 0)\n",
      "Input: ('résulter', 1), Output: ('partout', 0)\n",
      "Input: ('résulter', 1), Output: ('rideau', 0)\n",
      "Input: ('énorme', 1), Output: ('précis', 1)\n",
      "Input: ('énorme', 1), Output: ('précédent', 1)\n",
      "Input: ('énorme', 1), Output: ('distribuer', 1)\n",
      "Input: ('énorme', 1), Output: ('détaillé', 1)\n",
      "Input: ('énorme', 1), Output: ('danger', 1)\n",
      "Input: ('énorme', 1), Output: ('efficacement', 0)\n",
      "Input: ('énorme', 1), Output: ('à temps plein', 0)\n",
      "Input: ('énorme', 1), Output: ('organisé', 0)\n",
      "Input: ('énorme', 1), Output: ('annonce', 0)\n",
      "Input: ('énorme', 1), Output: ('blesser', 0)\n",
      "Input: ('énorme', 1), Output: ('qui', 0)\n",
      "Input: ('énorme', 1), Output: ('garde', 0)\n",
      "Input: ('énorme', 1), Output: ('prévisible', 0)\n",
      "Input: ('énorme', 1), Output: ('donc', 0)\n",
      "Input: ('énorme', 1), Output: ('moitié', 0)\n",
      "Input: ('énorme', 1), Output: ('critère', 0)\n",
      "Input: ('énorme', 1), Output: ('partout', 0)\n",
      "Input: ('énorme', 1), Output: ('rideau', 0)\n",
      "Input: ('précis', 1), Output: ('précédent', 1)\n",
      "Input: ('précis', 1), Output: ('distribuer', 1)\n",
      "Input: ('précis', 1), Output: ('détaillé', 1)\n",
      "Input: ('précis', 1), Output: ('danger', 1)\n",
      "Input: ('précis', 1), Output: ('efficacement', 0)\n",
      "Input: ('précis', 1), Output: ('à temps plein', 0)\n",
      "Input: ('précis', 1), Output: ('organisé', 0)\n",
      "Input: ('précis', 1), Output: ('annonce', 0)\n",
      "Input: ('précis', 1), Output: ('blesser', 0)\n",
      "Input: ('précis', 1), Output: ('qui', 0)\n",
      "Input: ('précis', 1), Output: ('garde', 0)\n",
      "Input: ('précis', 1), Output: ('prévisible', 0)\n",
      "Input: ('précis', 1), Output: ('donc', 0)\n",
      "Input: ('précis', 1), Output: ('moitié', 0)\n",
      "Input: ('précis', 1), Output: ('critère', 0)\n",
      "Input: ('précis', 1), Output: ('partout', 0)\n",
      "Input: ('précis', 1), Output: ('rideau', 0)\n",
      "Input: ('précédent', 1), Output: ('distribuer', 1)\n",
      "Input: ('précédent', 1), Output: ('détaillé', 1)\n",
      "Input: ('précédent', 1), Output: ('danger', 1)\n",
      "Input: ('précédent', 1), Output: ('efficacement', 0)\n",
      "Input: ('précédent', 1), Output: ('à temps plein', 0)\n",
      "Input: ('précédent', 1), Output: ('organisé', 0)\n",
      "Input: ('précédent', 1), Output: ('annonce', 0)\n",
      "Input: ('précédent', 1), Output: ('blesser', 0)\n",
      "Input: ('précédent', 1), Output: ('qui', 0)\n",
      "Input: ('précédent', 1), Output: ('garde', 0)\n",
      "Input: ('précédent', 1), Output: ('prévisible', 0)\n",
      "Input: ('précédent', 1), Output: ('donc', 0)\n",
      "Input: ('précédent', 1), Output: ('moitié', 0)\n",
      "Input: ('précédent', 1), Output: ('critère', 0)\n",
      "Input: ('précédent', 1), Output: ('partout', 0)\n",
      "Input: ('précédent', 1), Output: ('rideau', 0)\n",
      "Input: ('distribuer', 1), Output: ('détaillé', 1)\n",
      "Input: ('distribuer', 1), Output: ('danger', 1)\n",
      "Input: ('distribuer', 1), Output: ('efficacement', 0)\n",
      "Input: ('distribuer', 1), Output: ('à temps plein', 0)\n",
      "Input: ('distribuer', 1), Output: ('organisé', 0)\n",
      "Input: ('distribuer', 1), Output: ('annonce', 0)\n",
      "Input: ('distribuer', 1), Output: ('blesser', 0)\n",
      "Input: ('distribuer', 1), Output: ('qui', 0)\n",
      "Input: ('distribuer', 1), Output: ('garde', 0)\n",
      "Input: ('distribuer', 1), Output: ('prévisible', 0)\n",
      "Input: ('distribuer', 1), Output: ('donc', 0)\n",
      "Input: ('distribuer', 1), Output: ('moitié', 0)\n",
      "Input: ('distribuer', 1), Output: ('critère', 0)\n",
      "Input: ('distribuer', 1), Output: ('partout', 0)\n",
      "Input: ('distribuer', 1), Output: ('rideau', 0)\n",
      "Input: ('détaillé', 1), Output: ('danger', 1)\n",
      "Input: ('détaillé', 1), Output: ('efficacement', 0)\n",
      "Input: ('détaillé', 1), Output: ('à temps plein', 0)\n",
      "Input: ('détaillé', 1), Output: ('organisé', 0)\n",
      "Input: ('détaillé', 1), Output: ('annonce', 0)\n",
      "Input: ('détaillé', 1), Output: ('blesser', 0)\n",
      "Input: ('détaillé', 1), Output: ('qui', 0)\n",
      "Input: ('détaillé', 1), Output: ('garde', 0)\n",
      "Input: ('détaillé', 1), Output: ('prévisible', 0)\n",
      "Input: ('détaillé', 1), Output: ('donc', 0)\n",
      "Input: ('détaillé', 1), Output: ('moitié', 0)\n",
      "Input: ('détaillé', 1), Output: ('critère', 0)\n",
      "Input: ('détaillé', 1), Output: ('partout', 0)\n",
      "Input: ('détaillé', 1), Output: ('rideau', 0)\n",
      "Input: ('danger', 1), Output: ('efficacement', 0)\n",
      "Input: ('danger', 1), Output: ('à temps plein', 0)\n",
      "Input: ('danger', 1), Output: ('organisé', 0)\n",
      "Input: ('danger', 1), Output: ('annonce', 0)\n",
      "Input: ('danger', 1), Output: ('blesser', 0)\n",
      "Input: ('danger', 1), Output: ('qui', 0)\n",
      "Input: ('danger', 1), Output: ('garde', 0)\n",
      "Input: ('danger', 1), Output: ('prévisible', 0)\n",
      "Input: ('danger', 1), Output: ('donc', 0)\n",
      "Input: ('danger', 1), Output: ('moitié', 0)\n",
      "Input: ('danger', 1), Output: ('critère', 0)\n",
      "Input: ('danger', 1), Output: ('partout', 0)\n",
      "Input: ('danger', 1), Output: ('rideau', 0)\n",
      "Input: ('efficacement', 0), Output: ('à temps plein', 0)\n",
      "Input: ('efficacement', 0), Output: ('organisé', 0)\n",
      "Input: ('efficacement', 0), Output: ('annonce', 0)\n",
      "Input: ('efficacement', 0), Output: ('blesser', 0)\n",
      "Input: ('efficacement', 0), Output: ('qui', 0)\n",
      "Input: ('efficacement', 0), Output: ('garde', 0)\n",
      "Input: ('efficacement', 0), Output: ('prévisible', 0)\n",
      "Input: ('efficacement', 0), Output: ('donc', 0)\n",
      "Input: ('efficacement', 0), Output: ('moitié', 0)\n",
      "Input: ('efficacement', 0), Output: ('critère', 0)\n",
      "Input: ('efficacement', 0), Output: ('partout', 0)\n",
      "Input: ('efficacement', 0), Output: ('rideau', 0)\n",
      "Input: ('à temps plein', 0), Output: ('organisé', 0)\n",
      "Input: ('à temps plein', 0), Output: ('annonce', 0)\n",
      "Input: ('à temps plein', 0), Output: ('blesser', 0)\n",
      "Input: ('à temps plein', 0), Output: ('qui', 0)\n",
      "Input: ('à temps plein', 0), Output: ('garde', 0)\n",
      "Input: ('à temps plein', 0), Output: ('prévisible', 0)\n",
      "Input: ('à temps plein', 0), Output: ('donc', 0)\n",
      "Input: ('à temps plein', 0), Output: ('moitié', 0)\n",
      "Input: ('à temps plein', 0), Output: ('critère', 0)\n",
      "Input: ('à temps plein', 0), Output: ('partout', 0)\n",
      "Input: ('à temps plein', 0), Output: ('rideau', 0)\n",
      "Input: ('organisé', 0), Output: ('annonce', 0)\n",
      "Input: ('organisé', 0), Output: ('blesser', 0)\n",
      "Input: ('organisé', 0), Output: ('qui', 0)\n",
      "Input: ('organisé', 0), Output: ('garde', 0)\n",
      "Input: ('organisé', 0), Output: ('prévisible', 0)\n",
      "Input: ('organisé', 0), Output: ('donc', 0)\n",
      "Input: ('organisé', 0), Output: ('moitié', 0)\n",
      "Input: ('organisé', 0), Output: ('critère', 0)\n",
      "Input: ('organisé', 0), Output: ('partout', 0)\n",
      "Input: ('organisé', 0), Output: ('rideau', 0)\n",
      "Input: ('annonce', 0), Output: ('blesser', 0)\n",
      "Input: ('annonce', 0), Output: ('qui', 0)\n",
      "Input: ('annonce', 0), Output: ('garde', 0)\n",
      "Input: ('annonce', 0), Output: ('prévisible', 0)\n",
      "Input: ('annonce', 0), Output: ('donc', 0)\n",
      "Input: ('annonce', 0), Output: ('moitié', 0)\n",
      "Input: ('annonce', 0), Output: ('critère', 0)\n",
      "Input: ('annonce', 0), Output: ('partout', 0)\n",
      "Input: ('annonce', 0), Output: ('rideau', 0)\n",
      "Input: ('blesser', 0), Output: ('qui', 0)\n",
      "Input: ('blesser', 0), Output: ('garde', 0)\n",
      "Input: ('blesser', 0), Output: ('prévisible', 0)\n",
      "Input: ('blesser', 0), Output: ('donc', 0)\n",
      "Input: ('blesser', 0), Output: ('moitié', 0)\n",
      "Input: ('blesser', 0), Output: ('critère', 0)\n",
      "Input: ('blesser', 0), Output: ('partout', 0)\n",
      "Input: ('blesser', 0), Output: ('rideau', 0)\n",
      "Input: ('qui', 0), Output: ('garde', 0)\n",
      "Input: ('qui', 0), Output: ('prévisible', 0)\n",
      "Input: ('qui', 0), Output: ('donc', 0)\n",
      "Input: ('qui', 0), Output: ('moitié', 0)\n",
      "Input: ('qui', 0), Output: ('critère', 0)\n",
      "Input: ('qui', 0), Output: ('partout', 0)\n",
      "Input: ('qui', 0), Output: ('rideau', 0)\n",
      "Input: ('garde', 0), Output: ('prévisible', 0)\n",
      "Input: ('garde', 0), Output: ('donc', 0)\n",
      "Input: ('garde', 0), Output: ('moitié', 0)\n",
      "Input: ('garde', 0), Output: ('critère', 0)\n",
      "Input: ('garde', 0), Output: ('partout', 0)\n",
      "Input: ('garde', 0), Output: ('rideau', 0)\n",
      "Input: ('prévisible', 0), Output: ('donc', 0)\n",
      "Input: ('prévisible', 0), Output: ('moitié', 0)\n",
      "Input: ('prévisible', 0), Output: ('critère', 0)\n",
      "Input: ('prévisible', 0), Output: ('partout', 0)\n",
      "Input: ('prévisible', 0), Output: ('rideau', 0)\n",
      "Input: ('donc', 0), Output: ('moitié', 0)\n",
      "Input: ('donc', 0), Output: ('critère', 0)\n",
      "Input: ('donc', 0), Output: ('partout', 0)\n",
      "Input: ('donc', 0), Output: ('rideau', 0)\n",
      "Input: ('moitié', 0), Output: ('critère', 0)\n",
      "Input: ('moitié', 0), Output: ('partout', 0)\n",
      "Input: ('moitié', 0), Output: ('rideau', 0)\n",
      "Input: ('critère', 0), Output: ('partout', 0)\n",
      "Input: ('critère', 0), Output: ('rideau', 0)\n",
      "Input: ('partout', 0), Output: ('rideau', 0)\n"
     ]
    }
   ],
   "source": [
    "for tuple in nikola.user_data:\n",
    "    input, output = tuple\n",
    "    print(f\"Input: {input}, Output: {output}\")"
   ]
  },
  {
   "cell_type": "markdown",
   "id": "01dd3f3e",
   "metadata": {},
   "source": [
    "# Classification "
   ]
  },
  {
   "cell_type": "code",
   "execution_count": null,
   "id": "f524d078",
   "metadata": {},
   "outputs": [],
   "source": []
  },
  {
   "cell_type": "markdown",
   "id": "6672c39e",
   "metadata": {},
   "source": [
    "# Neural Network"
   ]
  },
  {
   "cell_type": "code",
   "execution_count": null,
   "id": "9f258001",
   "metadata": {},
   "outputs": [],
   "source": []
  },
  {
   "cell_type": "markdown",
   "id": "3c1d7cd4",
   "metadata": {},
   "source": [
    "# Training Stats"
   ]
  },
  {
   "cell_type": "code",
   "execution_count": null,
   "id": "a82b56e6",
   "metadata": {},
   "outputs": [],
   "source": [
    "## how much data would be actually helpful (curve)"
   ]
  }
 ],
 "metadata": {
  "kernelspec": {
   "display_name": "Python 3",
   "language": "python",
   "name": "python3"
  },
  "language_info": {
   "codemirror_mode": {
    "name": "ipython",
    "version": 3
   },
   "file_extension": ".py",
   "mimetype": "text/x-python",
   "name": "python",
   "nbconvert_exporter": "python",
   "pygments_lexer": "ipython3",
   "version": "3.13.7"
  }
 },
 "nbformat": 4,
 "nbformat_minor": 5
}
