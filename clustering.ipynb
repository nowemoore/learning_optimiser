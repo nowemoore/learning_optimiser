{
 "cells": [
  {
   "cell_type": "code",
   "execution_count": 1,
   "id": "2d4cb723",
   "metadata": {},
   "outputs": [],
   "source": [
    "## imports\n",
    "\n",
    "import pandas as pd\n",
    "import nltk\n",
    "from pypdf import PdfReader\n",
    "from embeddings import * "
   ]
  },
  {
   "cell_type": "markdown",
   "id": "b8078bf2",
   "metadata": {},
   "source": [
    "# Clustering"
   ]
  },
  {
   "cell_type": "markdown",
   "id": "9dc4f5da",
   "metadata": {},
   "source": [
    "## Getting the correct data & embedding each word"
   ]
  },
  {
   "cell_type": "code",
   "execution_count": null,
   "id": "a63835be",
   "metadata": {},
   "outputs": [],
   "source": [
    "## find top 5,000 nouns and verbs by frequency\n",
    "reader = PdfReader(\"all_top_words.pdf\")\n",
    "text = \"\"\n",
    "\n",
    "for page in reader.pages:\n",
    "    text += page.extract_text()\n",
    "\n",
    "lines = text.split(\"\\n\")\n",
    "\n",
    "vocab = []\n",
    "\n",
    "for line in lines[4:3009] + lines[3012:]: ## (skipping readme lines)\n",
    "    words_on_line = line.split(\" \")\n",
    "    vocab.append(words_on_line[0])\n",
    "\n",
    "## embed top 5,000 words in target language using embeddings.py\n",
    "model = SentenceTransformer(\"distiluse-base-multilingual-cased-v1\") ## load semantic embed model\n",
    "words_and_vecs = []\n",
    "\n",
    "for word in vocab:\n",
    "    words_and_vecs.append((word, get_semantic_embedding(word, model)))"
   ]
  },
  {
   "cell_type": "markdown",
   "id": "243f278b",
   "metadata": {},
   "source": [
    "## Com"
   ]
  },
  {
   "cell_type": "code",
   "execution_count": null,
   "id": "5655c107",
   "metadata": {},
   "outputs": [],
   "source": [
    "## compute intertia\n",
    "\n",
    "## cluster based on intertia computed\n",
    "\n",
    "## propose a representative for each cluster"
   ]
  }
 ],
 "metadata": {
  "kernelspec": {
   "display_name": "Python 3",
   "language": "python",
   "name": "python3"
  },
  "language_info": {
   "codemirror_mode": {
    "name": "ipython",
    "version": 3
   },
   "file_extension": ".py",
   "mimetype": "text/x-python",
   "name": "python",
   "nbconvert_exporter": "python",
   "pygments_lexer": "ipython3",
   "version": "3.13.7"
  }
 },
 "nbformat": 4,
 "nbformat_minor": 5
}
